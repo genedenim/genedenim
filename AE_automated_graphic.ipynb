{
  "nbformat": 4,
  "nbformat_minor": 0,
  "metadata": {
    "colab": {
      "provenance": [],
      "authorship_tag": "ABX9TyMxMPVoH7h2LX6n1mVsg+0z",
      "include_colab_link": true
    },
    "kernelspec": {
      "name": "python3",
      "display_name": "Python 3"
    },
    "language_info": {
      "name": "python"
    }
  },
  "cells": [
    {
      "cell_type": "markdown",
      "metadata": {
        "id": "view-in-github",
        "colab_type": "text"
      },
      "source": [
        "<a href=\"https://colab.research.google.com/github/genedenim/genedenim/blob/main/AE_automated_graphic.ipynb\" target=\"_parent\"><img src=\"https://colab.research.google.com/assets/colab-badge.svg\" alt=\"Open In Colab\"/></a>"
      ]
    },
    {
      "cell_type": "code",
      "execution_count": 36,
      "metadata": {
        "id": "NjwNSNPt1u81"
      },
      "outputs": [],
      "source": [
        "from urllib.request import urlopen as uReq\n",
        "from bs4 import BeautifulSoup as soup \n",
        "import json"
      ]
    },
    {
      "cell_type": "code",
      "source": [
        "#insert url to use\n",
        "my_url = \"https://weather.com/weather/tenday/l/a5dc8c9d558d00771558a0e2949ae9ef3ba1df5ec254876a5fbf5eb41c473539\"\n",
        "\n",
        "uClient = uReq(my_url)\n",
        "page_html = uClient.read()\n",
        "uClient.close()\n",
        "\n",
        "page_soup = soup(page_html, \"html.parser\")\n",
        "\n",
        "#locate the web elements inside of the webpage\n",
        "days = page_soup.find_all(\"span\", class_=\"date-time\")\n",
        "dates = page_soup.find_all(\"span\", class_=\"day-detail\")\n",
        "descriptions = page_soup.find_all(\"td\", class_=\"description\")\n",
        "temps = page_soup.find_all(\"td\", class_=\"temp\")\n",
        "precips = page_soup.find_all(\"td\", class_=\"precip\")\n",
        "city = page_soup.find(\"div\", class_=\"locations-title\")\n",
        "\n",
        "for day in days:\n",
        "    print(day.text)\n",
        "\n",
        "for date in dates:\n",
        "    print(date.text)\n",
        "\n",
        "for description in descriptions:\n",
        "    print(description.text)\n",
        "\n",
        "#here we split the two variables\n",
        "for temp in temps:\n",
        "    newTemp = temp.text\n",
        "    newTemp = newTemp.split(\"°\")\n",
        "    high = newTemp[0]\n",
        "    low = newTemp[1]\n",
        "    print(high)\n",
        "    print(low)\n",
        "\n",
        "for precip in precips:\n",
        "    print(precip.text)\n",
        "\n",
        "    print(city.text)\n",
        "    newCity = city.text\n",
        "    newCity = newCity.split(\",\")\n",
        "    print(newCity)\n",
        "    state = newCity[1]\n",
        "    state = state[0:3]\n",
        "    city = newCity[0] + state\n",
        "    print(city)"
      ],
      "metadata": {
        "id": "1FCHU9sx1x7_"
      },
      "execution_count": 46,
      "outputs": []
    },
    {
      "cell_type": "code",
      "source": [],
      "metadata": {
        "id": "CWtlNNyO3I6l"
      },
      "execution_count": 37,
      "outputs": []
    }
  ]
}